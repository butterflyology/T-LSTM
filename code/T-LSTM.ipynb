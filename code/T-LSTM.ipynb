{
 "cells": [
  {
   "cell_type": "markdown",
   "metadata": {},
   "source": [
    "### `jupyter notebook` for the `T-LSTM.py` example"
   ]
  },
  {
   "cell_type": "markdown",
   "metadata": {},
   "source": [
    "Import the required packages"
   ]
  },
  {
   "cell_type": "code",
   "execution_count": 1,
   "metadata": {},
   "outputs": [],
   "source": [
    "# A toy example for clustering with 2-layer TLSTM auto-encoder\n",
    "# Inci M. Baytas, 2017\n",
    "# How to run: Directly run the main file: python main_AE.py\n",
    "\n",
    "import tensorflow as tf\n",
    "import numpy as np\n",
    "import matplotlib.pyplot as plt\n",
    "from sklearn.cluster import KMeans\n",
    "\n",
    "import h5py\n",
    "\n",
    "from T_LSTM_AE import T_LSTM_AE"
   ]
  },
  {
   "cell_type": "code",
   "execution_count": null,
   "metadata": {},
   "outputs": [],
   "source": []
  },
  {
   "cell_type": "code",
   "execution_count": null,
   "metadata": {},
   "outputs": [],
   "source": []
  },
  {
   "cell_type": "code",
   "execution_count": null,
   "metadata": {},
   "outputs": [],
   "source": [
    "# A synthetic data\n",
    "\n",
    "Data = []\n",
    "Time = []\n",
    "Assignments = []\n",
    "Target = []\n",
    "with h5py.File(\"Clustering_Data_1D.mat\") as f:#\n",
    "    for column in f['Data']:\n",
    "        row_data = []\n",
    "        for row_number in range(len(column)):\n",
    "            row_data.append(f[column[row_number]][:])\n",
    "    Data.append(row_data)\n",
    "    for column in f['Time']:\n",
    "        row_data = []\n",
    "        for row_number in range(len(column)):\n",
    "            row_data.append(f[column[row_number]][:])\n",
    "    Time.append(row_data)\n",
    "    for column in f['Assign']:\n",
    "        row_data = []\n",
    "        for row_number in range(len(column)):\n",
    "            row_data.append(f[column[row_number]][:])\n",
    "    Assignments.append(row_data)\n",
    "\n",
    "cell_len = len(Data[0])\n",
    "\n",
    "\n",
    "def generate_batches(data, time, assign, index):\n",
    "    batch_data = np.transpose(data[0][index])\n",
    "    batch_time = np.transpose(time[0][index])\n",
    "    batch_assign = np.transpose(assign[0][index])\n",
    "    return batch_data, batch_time, batch_assign\n",
    "\n",
    "\n",
    "# set learning parameters\n",
    "learning_rate = 1e-3\n",
    "ae_iters = 2000\n",
    "\n",
    "# set network parameters\n",
    "input_dim = np.size(Data[0][0],0)\n",
    "hidden_dim = 8\n",
    "hidden_dim2 = 2\n",
    "hidden_dim3 = 8\n",
    "output_dim = hidden_dim\n",
    "output_dim2 = hidden_dim2\n",
    "output_dim3 = input_dim\n",
    "\n",
    "lstm_ae = T_LSTM_AE(input_dim, output_dim, output_dim2, output_dim3, hidden_dim, hidden_dim2, hidden_dim3)\n",
    "\n",
    "loss_ae = lstm_ae.get_reconstruction_loss()\n",
    "\n",
    "optimizer = tf.train.AdamOptimizer(learning_rate=learning_rate).minimize(loss_ae)\n",
    "\n",
    "init = tf.global_variables_initializer()\n",
    "with tf.Session() as sess:\n",
    "    sess.run(init)\n",
    "    Loss = np.zeros(ae_iters)\n",
    "    for i in range(ae_iters):\n",
    "        Ll = 0\n",
    "        for j in range(cell_len):\n",
    "            x, t, a = generate_batches(Data, Time, Assignments, j)\n",
    "            _, L = sess.run([optimizer, loss_ae], feed_dict={lstm_ae.input: x, lstm_ae.time: t})\n",
    "            Ll += L\n",
    "        Loss[i] = Ll / cell_len\n",
    "        print('Loss: %f' %(Loss[i]))\n",
    "\n",
    "    assign_truth = []\n",
    "    data_reps = []\n",
    "    for c in range(cell_len):\n",
    "        data = np.transpose(Data[0][c])\n",
    "        time = np.transpose(Time[0][c])\n",
    "        assign = np.transpose(Assignments[0][c])\n",
    "        reps, cells = sess.run(lstm_ae.get_representation(), feed_dict={lstm_ae.input: data, lstm_ae.time: time})\n",
    "        if c == 0:\n",
    "            data_reps = reps\n",
    "            assign_truth = assign\n",
    "        else:\n",
    "            data_reps = np.concatenate((data_reps, reps))\n",
    "            assign_truth = np.concatenate((assign_truth, assign))\n",
    "\n",
    "######## Clustering ##########################\n",
    "kmeans = KMeans(n_clusters=4, random_state=0, init='k-means++').fit(data_reps)\n",
    "centroid_values = kmeans.cluster_centers_\n",
    "\n",
    "plt.figure(1)\n",
    "plt.scatter(data_reps[:, 0], data_reps[:, 1], c=assign_truth, s=50, alpha=0.5)\n",
    "plt.plot(centroid_values[:, 0], centroid_values[:, 1], 'kx', markersize=35)\n",
    "plt.title('TLSTM')\n",
    "plt.show()"
   ]
  }
 ],
 "metadata": {
  "kernelspec": {
   "display_name": "Py2_ML",
   "language": "python",
   "name": "py2_ml"
  },
  "language_info": {
   "codemirror_mode": {
    "name": "ipython",
    "version": 2
   },
   "file_extension": ".py",
   "mimetype": "text/x-python",
   "name": "python",
   "nbconvert_exporter": "python",
   "pygments_lexer": "ipython2",
   "version": "2.7.15"
  }
 },
 "nbformat": 4,
 "nbformat_minor": 2
}
